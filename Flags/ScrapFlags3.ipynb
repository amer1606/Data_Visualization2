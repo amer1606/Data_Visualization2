{
 "cells": [
  {
   "cell_type": "code",
   "execution_count": 1,
   "id": "635ad93e-81d1-4e91-bdda-5b71ffd80ba4",
   "metadata": {},
   "outputs": [],
   "source": [
    "from urllib.request import urlopen\n",
    "import requests\n",
    "from bs4 import BeautifulSoup\n",
    "import os\n",
    "from scrapethat import *\n",
    "import json\n",
    "import pandas as pd"
   ]
  },
  {
   "cell_type": "code",
   "execution_count": 2,
   "id": "0ab43a1b-7cc4-49ad-8b06-8245126fad06",
   "metadata": {},
   "outputs": [],
   "source": [
    "# Flags\n",
    "url = \"https://www.worldometers.info/geography/flags-of-the-world/\""
   ]
  },
  {
   "cell_type": "code",
   "execution_count": 3,
   "id": "812d4dbd-e677-4a20-b530-9c14087a74a0",
   "metadata": {},
   "outputs": [],
   "source": [
    "t = read_cloud('https://www.worldometers.info/geography/flags-of-the-world/')"
   ]
  },
  {
   "cell_type": "code",
   "execution_count": 4,
   "id": "425899b5-f61c-467a-8974-8d304606d8a2",
   "metadata": {},
   "outputs": [],
   "source": [
    "flag_node = t.find_all(class_='col-md-4')"
   ]
  },
  {
   "cell_type": "code",
   "execution_count": 5,
   "id": "90d9e83d-254e-4a0f-b998-736d83c74b2e",
   "metadata": {},
   "outputs": [
    {
     "data": {
      "text/plain": [
       "[<div class=\"col-md-4\" style=\"padding:15px; border:1px solid #ccc \"><div align=\"center\" style=\"margin-top:10px \"><a href=\"/img/flags/af-flag.gif\"><img border=\"0\" height=\"80\" src=\"/img/flags/small/tn_af-flag.gif\" width=\"120\"/></a><div style=\"font-weight:bold; padding-top:10px\">Afghanistan</div></div></div>,\n",
       " <div class=\"col-md-4\" style=\"padding:15px; border:1px solid #ccc \"><div align=\"center\" style=\"margin-top:10px \"><a href=\"/img/flags/al-flag.gif\"><img border=\"0\" height=\"80\" src=\"/img/flags/small/tn_al-flag.gif\" width=\"120\"/></a><div style=\"font-weight:bold; padding-top:10px\">Albania</div></div></div>,\n",
       " <div class=\"col-md-4\" style=\"padding:15px; border:1px solid #ccc \"><div align=\"center\" style=\"margin-top:10px \"><a href=\"/img/flags/ag-flag.gif\"><img border=\"0\" height=\"80\" src=\"/img/flags/small/tn_ag-flag.gif\" width=\"120\"/></a><div style=\"font-weight:bold; padding-top:10px\">Algeria</div></div></div>,\n",
       " <div class=\"col-md-4\" style=\"padding:15px; border:1px solid #ccc \"><div align=\"center\" style=\"margin-top:10px \"><a href=\"/img/flags/an-flag.gif\"><img border=\"0\" height=\"80\" src=\"/img/flags/small/tn_an-flag.gif\" width=\"120\"/></a><div style=\"font-weight:bold; padding-top:10px\">Andorra</div></div></div>,\n",
       " <div class=\"col-md-4\" style=\"padding:15px; border:1px solid #ccc \"><div align=\"center\" style=\"margin-top:10px \"><a href=\"/img/flags/ao-flag.gif\"><img border=\"0\" height=\"80\" src=\"/img/flags/small/tn_ao-flag.gif\" width=\"120\"/></a><div style=\"font-weight:bold; padding-top:10px\">Angola</div></div></div>,\n",
       " <div class=\"col-md-4\" style=\"padding:15px; border:1px solid #ccc \"><div align=\"center\" style=\"margin-top:10px \"><a href=\"/img/flags/ac-flag.gif\"><img border=\"0\" height=\"80\" src=\"/img/flags/small/tn_ac-flag.gif\" width=\"120\"/></a><div style=\"font-weight:bold; padding-top:10px\">Antigua and Barbuda</div></div></div>,\n",
       " <div class=\"col-md-4\" style=\"padding:15px; border:1px solid #ccc \"><div align=\"center\" style=\"margin-top:10px \"><a href=\"/img/flags/ar-flag.gif\"><img border=\"0\" height=\"80\" src=\"/img/flags/small/tn_ar-flag.gif\" width=\"120\"/></a><div style=\"font-weight:bold; padding-top:10px\">Argentina</div></div></div>,\n",
       " <div class=\"col-md-4\" style=\"padding:15px; border:1px solid #ccc \"><div align=\"center\" style=\"margin-top:10px \"><a href=\"/img/flags/am-flag.gif\"><img border=\"0\" height=\"80\" src=\"/img/flags/small/tn_am-flag.gif\" width=\"120\"/></a><div style=\"font-weight:bold; padding-top:10px\">Armenia</div></div></div>,\n",
       " <div class=\"col-md-4\" style=\"padding:15px; border:1px solid #ccc \"><div align=\"center\" style=\"margin-top:10px \"><a href=\"/img/flags/as-flag.gif\"><img border=\"0\" height=\"80\" src=\"/img/flags/small/tn_as-flag.gif\" width=\"120\"/></a><div style=\"font-weight:bold; padding-top:10px\">Australia</div></div></div>,\n",
       " <div class=\"col-md-4\" style=\"padding:15px; border:1px solid #ccc \"><div align=\"center\" style=\"margin-top:10px \"><a href=\"/img/flags/au-flag.gif\"><img border=\"0\" height=\"80\" src=\"/img/flags/small/tn_au-flag.gif\" width=\"120\"/></a><div style=\"font-weight:bold; padding-top:10px\">Austria</div></div></div>,\n",
       " <div class=\"col-md-4\" style=\"padding:15px; border:1px solid #ccc \"><div align=\"center\" style=\"margin-top:10px \"><a href=\"/img/flags/aj-flag.gif\"><img border=\"0\" height=\"80\" src=\"/img/flags/small/tn_aj-flag.gif\" width=\"120\"/></a><div style=\"font-weight:bold; padding-top:10px\">Azerbaijan</div></div></div>,\n",
       " <div class=\"col-md-4\" style=\"padding:15px; border:1px solid #ccc \"><div align=\"center\" style=\"margin-top:10px \"><a href=\"/img/flags/bf-flag.gif\"><img border=\"0\" height=\"80\" src=\"/img/flags/small/tn_bf-flag.gif\" width=\"120\"/></a><div style=\"font-weight:bold; padding-top:10px\">Bahamas</div></div></div>,\n",
       " <div class=\"col-md-4\" style=\"padding:15px; border:1px solid #ccc \"><div align=\"center\" style=\"margin-top:10px \"><a href=\"/img/flags/ba-flag.gif\"><img border=\"0\" height=\"80\" src=\"/img/flags/small/tn_ba-flag.gif\" width=\"120\"/></a><div style=\"font-weight:bold; padding-top:10px\">Bahrain</div></div></div>,\n",
       " <div class=\"col-md-4\" style=\"padding:15px; border:1px solid #ccc \"><div align=\"center\" style=\"margin-top:10px \"><a href=\"/img/flags/bg-flag.gif\"><img border=\"0\" height=\"80\" src=\"/img/flags/small/tn_bg-flag.gif\" width=\"120\"/></a><div style=\"font-weight:bold; padding-top:10px\">Bangladesh</div></div></div>,\n",
       " <div class=\"col-md-4\" style=\"padding:15px; border:1px solid #ccc \"><div align=\"center\" style=\"margin-top:10px \"><a href=\"/img/flags/bb-flag.gif\"><img border=\"0\" height=\"80\" src=\"/img/flags/small/tn_bb-flag.gif\" width=\"120\"/></a><div style=\"font-weight:bold; padding-top:10px\">Barbados</div></div></div>,\n",
       " <div class=\"col-md-4\" style=\"padding:15px; border:1px solid #ccc \"><div align=\"center\" style=\"margin-top:10px \"><a href=\"/img/flags/bo-flag.gif\"><img border=\"0\" height=\"80\" src=\"/img/flags/small/tn_bo-flag.gif\" width=\"120\"/></a><div style=\"font-weight:bold; padding-top:10px\">Belarus</div></div></div>,\n",
       " <div class=\"col-md-4\" style=\"padding:15px; border:1px solid #ccc \"><div align=\"center\" style=\"margin-top:10px \"><a href=\"/img/flags/be-flag.gif\"><img border=\"0\" height=\"80\" src=\"/img/flags/small/tn_be-flag.gif\" width=\"120\"/></a><div style=\"font-weight:bold; padding-top:10px\">Belgium</div></div></div>,\n",
       " <div class=\"col-md-4\" style=\"padding:15px; border:1px solid #ccc \"><div align=\"center\" style=\"margin-top:10px \"><a href=\"/img/flags/bh-flag.gif\"><img border=\"0\" height=\"80\" src=\"/img/flags/small/tn_bh-flag.gif\" width=\"120\"/></a><div style=\"font-weight:bold; padding-top:10px\">Belize</div></div></div>,\n",
       " <div class=\"col-md-4\" style=\"padding:15px; border:1px solid #ccc \"><div align=\"center\" style=\"margin-top:10px \"><a href=\"/img/flags/bn-flag.gif\"><img border=\"0\" height=\"80\" src=\"/img/flags/small/tn_bn-flag.gif\" width=\"120\"/></a><div style=\"font-weight:bold; padding-top:10px\">Benin</div></div></div>,\n",
       " <div class=\"col-md-4\" style=\"padding:15px; border:1px solid #ccc \"><div align=\"center\" style=\"margin-top:10px \"><a href=\"/img/flags/bt-flag.gif\"><img border=\"0\" height=\"80\" src=\"/img/flags/small/tn_bt-flag.gif\" width=\"120\"/></a><div style=\"font-weight:bold; padding-top:10px\">Bhutan</div></div></div>,\n",
       " <div class=\"col-md-4\" style=\"padding:15px; border:1px solid #ccc \"><div align=\"center\" style=\"margin-top:10px \"><a href=\"/img/flags/bl-flag.gif\"><img border=\"0\" height=\"80\" src=\"/img/flags/small/tn_bl-flag.gif\" width=\"120\"/></a><div style=\"font-weight:bold; padding-top:10px\">Bolivia</div></div></div>,\n",
       " <div class=\"col-md-4\" style=\"padding:15px; border:1px solid #ccc \"><div align=\"center\" style=\"margin-top:10px \"><a href=\"/img/flags/bk-flag.gif\"><img border=\"0\" height=\"80\" src=\"/img/flags/small/tn_bk-flag.gif\" width=\"120\"/></a><div style=\"font-weight:bold; padding-top:10px\">Bosnia and Herzegovina</div></div></div>,\n",
       " <div class=\"col-md-4\" style=\"padding:15px; border:1px solid #ccc \"><div align=\"center\" style=\"margin-top:10px \"><a href=\"/img/flags/bc-flag.gif\"><img border=\"0\" height=\"80\" src=\"/img/flags/small/tn_bc-flag.gif\" width=\"120\"/></a><div style=\"font-weight:bold; padding-top:10px\">Botswana</div></div></div>,\n",
       " <div class=\"col-md-4\" style=\"padding:15px; border:1px solid #ccc \"><div align=\"center\" style=\"margin-top:10px \"><a href=\"/img/flags/br-flag.gif\"><img border=\"0\" height=\"80\" src=\"/img/flags/small/tn_br-flag.gif\" width=\"120\"/></a><div style=\"font-weight:bold; padding-top:10px\">Brazil</div></div></div>,\n",
       " <div class=\"col-md-4\" style=\"padding:15px; border:1px solid #ccc \"><div align=\"center\" style=\"margin-top:10px \"><a href=\"/img/flags/bx-flag.gif\"><img border=\"0\" height=\"80\" src=\"/img/flags/small/tn_bx-flag.gif\" width=\"120\"/></a><div style=\"font-weight:bold; padding-top:10px\">Brunei </div></div></div>,\n",
       " <div class=\"col-md-4\" style=\"padding:15px; border:1px solid #ccc \"><div align=\"center\" style=\"margin-top:10px \"><a href=\"/img/flags/bu-flag.gif\"><img border=\"0\" height=\"80\" src=\"/img/flags/small/tn_bu-flag.gif\" width=\"120\"/></a><div style=\"font-weight:bold; padding-top:10px\">Bulgaria</div></div></div>,\n",
       " <div class=\"col-md-4\" style=\"padding:15px; border:1px solid #ccc \"><div align=\"center\" style=\"margin-top:10px \"><a href=\"/img/flags/uv-flag.gif\"><img border=\"0\" height=\"80\" src=\"/img/flags/small/tn_uv-flag.gif\" width=\"120\"/></a><div style=\"font-weight:bold; padding-top:10px\">Burkina Faso</div></div></div>,\n",
       " <div class=\"col-md-4\" style=\"padding:15px; border:1px solid #ccc \"><div align=\"center\" style=\"margin-top:10px \"><a href=\"/img/flags/by-flag.gif\"><img border=\"0\" height=\"80\" src=\"/img/flags/small/tn_by-flag.gif\" width=\"120\"/></a><div style=\"font-weight:bold; padding-top:10px\">Burundi</div></div></div>,\n",
       " <div class=\"col-md-4\" style=\"padding:15px; border:1px solid #ccc \"><div align=\"center\" style=\"margin-top:10px \"><a href=\"/img/flags/iv-flag.gif\"><img border=\"0\" height=\"80\" src=\"/img/flags/small/tn_iv-flag.gif\" width=\"120\"/></a><div style=\"font-weight:bold; padding-top:10px\">Côte d'Ivoire</div></div></div>,\n",
       " <div class=\"col-md-4\" style=\"padding:15px; border:1px solid #ccc \"><div align=\"center\" style=\"margin-top:10px \"><a href=\"/img/flags/cv-flag.gif\"><img border=\"0\" height=\"80\" src=\"/img/flags/small/tn_cv-flag.gif\" width=\"120\"/></a><div style=\"font-weight:bold; padding-top:10px\">Cabo Verde</div></div></div>,\n",
       " <div class=\"col-md-4\" style=\"padding:15px; border:1px solid #ccc \"><div align=\"center\" style=\"margin-top:10px \"><a href=\"/img/flags/cb-flag.gif\"><img border=\"0\" height=\"80\" src=\"/img/flags/small/tn_cb-flag.gif\" width=\"120\"/></a><div style=\"font-weight:bold; padding-top:10px\">Cambodia</div></div></div>,\n",
       " <div class=\"col-md-4\" style=\"padding:15px; border:1px solid #ccc \"><div align=\"center\" style=\"margin-top:10px \"><a href=\"/img/flags/cm-flag.gif\"><img border=\"0\" height=\"80\" src=\"/img/flags/small/tn_cm-flag.gif\" width=\"120\"/></a><div style=\"font-weight:bold; padding-top:10px\">Cameroon</div></div></div>,\n",
       " <div class=\"col-md-4\" style=\"padding:15px; border:1px solid #ccc \"><div align=\"center\" style=\"margin-top:10px \"><a href=\"/img/flags/ca-flag.gif\"><img border=\"0\" height=\"80\" src=\"/img/flags/small/tn_ca-flag.gif\" width=\"120\"/></a><div style=\"font-weight:bold; padding-top:10px\">Canada</div></div></div>,\n",
       " <div class=\"col-md-4\" style=\"padding:15px; border:1px solid #ccc \"><div align=\"center\" style=\"margin-top:10px \"><a href=\"/img/flags/ct-flag.gif\"><img border=\"0\" height=\"80\" src=\"/img/flags/small/tn_ct-flag.gif\" width=\"120\"/></a><div style=\"font-weight:bold; padding-top:10px\">CAR</div></div></div>,\n",
       " <div class=\"col-md-4\" style=\"padding:15px; border:1px solid #ccc \"><div align=\"center\" style=\"margin-top:10px \"><a href=\"/img/flags/cd-flag.gif\"><img border=\"0\" height=\"80\" src=\"/img/flags/small/tn_cd-flag.gif\" width=\"120\"/></a><div style=\"font-weight:bold; padding-top:10px\">Chad</div></div></div>,\n",
       " <div class=\"col-md-4\" style=\"padding:15px; border:1px solid #ccc \"><div align=\"center\" style=\"margin-top:10px \"><a href=\"/img/flags/ci-flag.gif\"><img border=\"0\" height=\"80\" src=\"/img/flags/small/tn_ci-flag.gif\" width=\"120\"/></a><div style=\"font-weight:bold; padding-top:10px\">Chile</div></div></div>,\n",
       " <div class=\"col-md-4\" style=\"padding:15px; border:1px solid #ccc \"><div align=\"center\" style=\"margin-top:10px \"><a href=\"/img/flags/ch-flag.gif\"><img border=\"0\" height=\"80\" src=\"/img/flags/small/tn_ch-flag.gif\" width=\"120\"/></a><div style=\"font-weight:bold; padding-top:10px\">China</div></div></div>,\n",
       " <div class=\"col-md-4\" style=\"padding:15px; border:1px solid #ccc \"><div align=\"center\" style=\"margin-top:10px \"><a href=\"/img/flags/co-flag.gif\"><img border=\"0\" height=\"80\" src=\"/img/flags/small/tn_co-flag.gif\" width=\"120\"/></a><div style=\"font-weight:bold; padding-top:10px\">Colombia</div></div></div>,\n",
       " <div class=\"col-md-4\" style=\"padding:15px; border:1px solid #ccc \"><div align=\"center\" style=\"margin-top:10px \"><a href=\"/img/flags/cn-flag.gif\"><img border=\"0\" height=\"80\" src=\"/img/flags/small/tn_cn-flag.gif\" width=\"120\"/></a><div style=\"font-weight:bold; padding-top:10px\">Comoros</div></div></div>,\n",
       " <div class=\"col-md-4\" style=\"padding:15px; border:1px solid #ccc \"><div align=\"center\" style=\"margin-top:10px \"><a href=\"/img/flags/cg-flag.gif\"><img border=\"0\" height=\"80\" src=\"/img/flags/small/tn_cg-flag.gif\" width=\"120\"/></a><div style=\"font-weight:bold; padding-top:10px\">Congo</div></div></div>,\n",
       " <div class=\"col-md-4\" style=\"padding:15px; border:1px solid #ccc \"><div align=\"center\" style=\"margin-top:10px \"><a href=\"/img/flags/cs-flag.gif\"><img border=\"0\" height=\"80\" src=\"/img/flags/small/tn_cs-flag.gif\" width=\"120\"/></a><div style=\"font-weight:bold; padding-top:10px\">Costa Rica</div></div></div>,\n",
       " <div class=\"col-md-4\" style=\"padding:15px; border:1px solid #ccc \"><div align=\"center\" style=\"margin-top:10px \"><a href=\"/img/flags/hr-flag.gif\"><img border=\"0\" height=\"80\" src=\"/img/flags/small/tn_hr-flag.gif\" width=\"120\"/></a><div style=\"font-weight:bold; padding-top:10px\">Croatia</div></div></div>,\n",
       " <div class=\"col-md-4\" style=\"padding:15px; border:1px solid #ccc \"><div align=\"center\" style=\"margin-top:10px \"><a href=\"/img/flags/cu-flag.gif\"><img border=\"0\" height=\"80\" src=\"/img/flags/small/tn_cu-flag.gif\" width=\"120\"/></a><div style=\"font-weight:bold; padding-top:10px\">Cuba</div></div></div>,\n",
       " <div class=\"col-md-4\" style=\"padding:15px; border:1px solid #ccc \"><div align=\"center\" style=\"margin-top:10px \"><a href=\"/img/flags/cy-flag.gif\"><img border=\"0\" height=\"80\" src=\"/img/flags/small/tn_cy-flag.gif\" width=\"120\"/></a><div style=\"font-weight:bold; padding-top:10px\">Cyprus</div></div></div>,\n",
       " <div class=\"col-md-4\" style=\"padding:15px; border:1px solid #ccc \"><div align=\"center\" style=\"margin-top:10px \"><a href=\"/img/flags/ez-flag.gif\"><img border=\"0\" height=\"80\" src=\"/img/flags/small/tn_ez-flag.gif\" width=\"120\"/></a><div style=\"font-weight:bold; padding-top:10px\">Czechia</div></div></div>,\n",
       " <div class=\"col-md-4\" style=\"padding:15px; border:1px solid #ccc \"><div align=\"center\" style=\"margin-top:10px \"><a href=\"/img/flags/da-flag.gif\"><img border=\"0\" height=\"80\" src=\"/img/flags/small/tn_da-flag.gif\" width=\"120\"/></a><div style=\"font-weight:bold; padding-top:10px\">Denmark</div></div></div>,\n",
       " <div class=\"col-md-4\" style=\"padding:15px; border:1px solid #ccc \"><div align=\"center\" style=\"margin-top:10px \"><a href=\"/img/flags/dj-flag.gif\"><img border=\"0\" height=\"80\" src=\"/img/flags/small/tn_dj-flag.gif\" width=\"120\"/></a><div style=\"font-weight:bold; padding-top:10px\">Djibouti</div></div></div>,\n",
       " <div class=\"col-md-4\" style=\"padding:15px; border:1px solid #ccc \"><div align=\"center\" style=\"margin-top:10px \"><a href=\"/img/flags/do-flag.gif\"><img border=\"0\" height=\"80\" src=\"/img/flags/small/tn_do-flag.gif\" width=\"120\"/></a><div style=\"font-weight:bold; padding-top:10px\">Dominica</div></div></div>,\n",
       " <div class=\"col-md-4\" style=\"padding:15px; border:1px solid #ccc \"><div align=\"center\" style=\"margin-top:10px \"><a href=\"/img/flags/dr-flag.gif\"><img border=\"0\" height=\"80\" src=\"/img/flags/small/tn_dr-flag.gif\" width=\"120\"/></a><div style=\"font-weight:bold; padding-top:10px\">Dominican Republic</div></div></div>,\n",
       " <div class=\"col-md-4\" style=\"padding:15px; border:1px solid #ccc \"><div align=\"center\" style=\"margin-top:10px \"><a href=\"/img/flags/kn-flag.gif\"><img border=\"0\" height=\"80\" src=\"/img/flags/small/tn_kn-flag.gif\" width=\"120\"/></a><div style=\"font-weight:bold; padding-top:10px\">DPRK</div></div></div>,\n",
       " <div class=\"col-md-4\" style=\"padding:15px; border:1px solid #ccc \"><div align=\"center\" style=\"margin-top:10px \"><a href=\"/img/flags/congo-flag.gif\"><img border=\"0\" height=\"80\" src=\"/img/flags/small/tn_congo-flag.gif\" width=\"120\"/></a><div style=\"font-weight:bold; padding-top:10px\">DRC</div></div></div>,\n",
       " <div class=\"col-md-4\" style=\"padding:15px; border:1px solid #ccc \"><div align=\"center\" style=\"margin-top:10px \"><a href=\"/img/flags/ec-flag.gif\"><img border=\"0\" height=\"80\" src=\"/img/flags/small/tn_ec-flag.gif\" width=\"120\"/></a><div style=\"font-weight:bold; padding-top:10px\">Ecuador</div></div></div>,\n",
       " <div class=\"col-md-4\" style=\"padding:15px; border:1px solid #ccc \"><div align=\"center\" style=\"margin-top:10px \"><a href=\"/img/flags/eg-flag.gif\"><img border=\"0\" height=\"80\" src=\"/img/flags/small/tn_eg-flag.gif\" width=\"120\"/></a><div style=\"font-weight:bold; padding-top:10px\">Egypt</div></div></div>,\n",
       " <div class=\"col-md-4\" style=\"padding:15px; border:1px solid #ccc \"><div align=\"center\" style=\"margin-top:10px \"><a href=\"/img/flags/es-flag.gif\"><img border=\"0\" height=\"80\" src=\"/img/flags/small/tn_es-flag.gif\" width=\"120\"/></a><div style=\"font-weight:bold; padding-top:10px\">El Salvador</div></div></div>,\n",
       " <div class=\"col-md-4\" style=\"padding:15px; border:1px solid #ccc \"><div align=\"center\" style=\"margin-top:10px \"><a href=\"/img/flags/ek-flag.gif\"><img border=\"0\" height=\"80\" src=\"/img/flags/small/tn_ek-flag.gif\" width=\"120\"/></a><div style=\"font-weight:bold; padding-top:10px\">Equatorial Guinea</div></div></div>,\n",
       " <div class=\"col-md-4\" style=\"padding:15px; border:1px solid #ccc \"><div align=\"center\" style=\"margin-top:10px \"><a href=\"/img/flags/er-flag.gif\"><img border=\"0\" height=\"80\" src=\"/img/flags/small/tn_er-flag.gif\" width=\"120\"/></a><div style=\"font-weight:bold; padding-top:10px\">Eritrea</div></div></div>,\n",
       " <div class=\"col-md-4\" style=\"padding:15px; border:1px solid #ccc \"><div align=\"center\" style=\"margin-top:10px \"><a href=\"/img/flags/en-flag.gif\"><img border=\"0\" height=\"80\" src=\"/img/flags/small/tn_en-flag.gif\" width=\"120\"/></a><div style=\"font-weight:bold; padding-top:10px\">Estonia</div></div></div>,\n",
       " <div class=\"col-md-4\" style=\"padding:15px; border:1px solid #ccc \"><div align=\"center\" style=\"margin-top:10px \"><a href=\"/img/flags/wz-flag.gif\"><img border=\"0\" height=\"80\" src=\"/img/flags/small/tn_wz-flag.gif\" width=\"120\"/></a><div style=\"font-weight:bold; padding-top:10px\">Eswatini</div></div></div>,\n",
       " <div class=\"col-md-4\" style=\"padding:15px; border:1px solid #ccc \"><div align=\"center\" style=\"margin-top:10px \"><a href=\"/img/flags/et-flag.gif\"><img border=\"0\" height=\"80\" src=\"/img/flags/small/tn_et-flag.gif\" width=\"120\"/></a><div style=\"font-weight:bold; padding-top:10px\">Ethiopia</div></div></div>,\n",
       " <div class=\"col-md-4\" style=\"padding:15px; border:1px solid #ccc \"><div align=\"center\" style=\"margin-top:10px \"><a href=\"/img/flags/fj-flag.gif\"><img border=\"0\" height=\"80\" src=\"/img/flags/small/tn_fj-flag.gif\" width=\"120\"/></a><div style=\"font-weight:bold; padding-top:10px\">Fiji</div></div></div>,\n",
       " <div class=\"col-md-4\" style=\"padding:15px; border:1px solid #ccc \"><div align=\"center\" style=\"margin-top:10px \"><a href=\"/img/flags/fi-flag.gif\"><img border=\"0\" height=\"80\" src=\"/img/flags/small/tn_fi-flag.gif\" width=\"120\"/></a><div style=\"font-weight:bold; padding-top:10px\">Finland</div></div></div>,\n",
       " <div class=\"col-md-4\" style=\"padding:15px; border:1px solid #ccc \"><div align=\"center\" style=\"margin-top:10px \"><a href=\"/img/flags/fr-flag.gif\"><img border=\"0\" height=\"80\" src=\"/img/flags/small/tn_fr-flag.gif\" width=\"120\"/></a><div style=\"font-weight:bold; padding-top:10px\">France</div></div></div>,\n",
       " <div class=\"col-md-4\" style=\"padding:15px; border:1px solid #ccc \"><div align=\"center\" style=\"margin-top:10px \"><a href=\"/img/flags/gb-flag.gif\"><img border=\"0\" height=\"80\" src=\"/img/flags/small/tn_gb-flag.gif\" width=\"120\"/></a><div style=\"font-weight:bold; padding-top:10px\">Gabon</div></div></div>,\n",
       " <div class=\"col-md-4\" style=\"padding:15px; border:1px solid #ccc \"><div align=\"center\" style=\"margin-top:10px \"><a href=\"/img/flags/ga-flag.gif\"><img border=\"0\" height=\"80\" src=\"/img/flags/small/tn_ga-flag.gif\" width=\"120\"/></a><div style=\"font-weight:bold; padding-top:10px\">Gambia</div></div></div>,\n",
       " <div class=\"col-md-4\" style=\"padding:15px; border:1px solid #ccc \"><div align=\"center\" style=\"margin-top:10px \"><a href=\"/img/flags/gg-flag.gif\"><img border=\"0\" height=\"80\" src=\"/img/flags/small/tn_gg-flag.gif\" width=\"120\"/></a><div style=\"font-weight:bold; padding-top:10px\">Georgia</div></div></div>,\n",
       " <div class=\"col-md-4\" style=\"padding:15px; border:1px solid #ccc \"><div align=\"center\" style=\"margin-top:10px \"><a href=\"/img/flags/gm-flag.gif\"><img border=\"0\" height=\"80\" src=\"/img/flags/small/tn_gm-flag.gif\" width=\"120\"/></a><div style=\"font-weight:bold; padding-top:10px\">Germany</div></div></div>,\n",
       " <div class=\"col-md-4\" style=\"padding:15px; border:1px solid #ccc \"><div align=\"center\" style=\"margin-top:10px \"><a href=\"/img/flags/gh-flag.gif\"><img border=\"0\" height=\"80\" src=\"/img/flags/small/tn_gh-flag.gif\" width=\"120\"/></a><div style=\"font-weight:bold; padding-top:10px\">Ghana</div></div></div>,\n",
       " <div class=\"col-md-4\" style=\"padding:15px; border:1px solid #ccc \"><div align=\"center\" style=\"margin-top:10px \"><a href=\"/img/flags/gr-flag.gif\"><img border=\"0\" height=\"80\" src=\"/img/flags/small/tn_gr-flag.gif\" width=\"120\"/></a><div style=\"font-weight:bold; padding-top:10px\">Greece</div></div></div>,\n",
       " <div class=\"col-md-4\" style=\"padding:15px; border:1px solid #ccc \"><div align=\"center\" style=\"margin-top:10px \"><a href=\"/img/flags/gj-flag.gif\"><img border=\"0\" height=\"80\" src=\"/img/flags/small/tn_gj-flag.gif\" width=\"120\"/></a><div style=\"font-weight:bold; padding-top:10px\">Grenada</div></div></div>,\n",
       " <div class=\"col-md-4\" style=\"padding:15px; border:1px solid #ccc \"><div align=\"center\" style=\"margin-top:10px \"><a href=\"/img/flags/gt-flag.gif\"><img border=\"0\" height=\"80\" src=\"/img/flags/small/tn_gt-flag.gif\" width=\"120\"/></a><div style=\"font-weight:bold; padding-top:10px\">Guatemala</div></div></div>,\n",
       " <div class=\"col-md-4\" style=\"padding:15px; border:1px solid #ccc \"><div align=\"center\" style=\"margin-top:10px \"><a href=\"/img/flags/gv-flag.gif\"><img border=\"0\" height=\"80\" src=\"/img/flags/small/tn_gv-flag.gif\" width=\"120\"/></a><div style=\"font-weight:bold; padding-top:10px\">Guinea</div></div></div>,\n",
       " <div class=\"col-md-4\" style=\"padding:15px; border:1px solid #ccc \"><div align=\"center\" style=\"margin-top:10px \"><a href=\"/img/flags/pu-flag.gif\"><img border=\"0\" height=\"80\" src=\"/img/flags/small/tn_pu-flag.gif\" width=\"120\"/></a><div style=\"font-weight:bold; padding-top:10px\">Guinea-Bissau</div></div></div>,\n",
       " <div class=\"col-md-4\" style=\"padding:15px; border:1px solid #ccc \"><div align=\"center\" style=\"margin-top:10px \"><a href=\"/img/flags/gy-flag.gif\"><img border=\"0\" height=\"80\" src=\"/img/flags/small/tn_gy-flag.gif\" width=\"120\"/></a><div style=\"font-weight:bold; padding-top:10px\">Guyana</div></div></div>,\n",
       " <div class=\"col-md-4\" style=\"padding:15px; border:1px solid #ccc \"><div align=\"center\" style=\"margin-top:10px \"><a href=\"/img/flags/ha-flag.gif\"><img border=\"0\" height=\"80\" src=\"/img/flags/small/tn_ha-flag.gif\" width=\"120\"/></a><div style=\"font-weight:bold; padding-top:10px\">Haiti</div></div></div>,\n",
       " <div class=\"col-md-4\" style=\"padding:15px; border:1px solid #ccc \"><div align=\"center\" style=\"margin-top:10px \"><a href=\"/img/flags/vt-flag.gif\"><img border=\"0\" height=\"80\" src=\"/img/flags/small/tn_vt-flag.gif\" width=\"120\"/></a><div style=\"font-weight:bold; padding-top:10px\">Holy See</div></div></div>,\n",
       " <div class=\"col-md-4\" style=\"padding:15px; border:1px solid #ccc \"><div align=\"center\" style=\"margin-top:10px \"><a href=\"/img/flags/ho-flag.gif\"><img border=\"0\" height=\"80\" src=\"/img/flags/small/tn_ho-flag.gif\" width=\"120\"/></a><div style=\"font-weight:bold; padding-top:10px\">Honduras</div></div></div>,\n",
       " <div class=\"col-md-4\" style=\"padding:15px; border:1px solid #ccc \"><div align=\"center\" style=\"margin-top:10px \"><a href=\"/img/flags/hu-flag.gif\"><img border=\"0\" height=\"80\" src=\"/img/flags/small/tn_hu-flag.gif\" width=\"120\"/></a><div style=\"font-weight:bold; padding-top:10px\">Hungary</div></div></div>,\n",
       " <div class=\"col-md-4\" style=\"padding:15px; border:1px solid #ccc \"><div align=\"center\" style=\"margin-top:10px \"><a href=\"/img/flags/ic-flag.gif\"><img border=\"0\" height=\"80\" src=\"/img/flags/small/tn_ic-flag.gif\" width=\"120\"/></a><div style=\"font-weight:bold; padding-top:10px\">Iceland</div></div></div>,\n",
       " <div class=\"col-md-4\" style=\"padding:15px; border:1px solid #ccc \"><div align=\"center\" style=\"margin-top:10px \"><a href=\"/img/flags/in-flag.gif\"><img border=\"0\" height=\"80\" src=\"/img/flags/small/tn_in-flag.gif\" width=\"120\"/></a><div style=\"font-weight:bold; padding-top:10px\">India</div></div></div>,\n",
       " <div class=\"col-md-4\" style=\"padding:15px; border:1px solid #ccc \"><div align=\"center\" style=\"margin-top:10px \"><a href=\"/img/flags/id-flag.gif\"><img border=\"0\" height=\"80\" src=\"/img/flags/small/tn_id-flag.gif\" width=\"120\"/></a><div style=\"font-weight:bold; padding-top:10px\">Indonesia</div></div></div>,\n",
       " <div class=\"col-md-4\" style=\"padding:15px; border:1px solid #ccc \"><div align=\"center\" style=\"margin-top:10px \"><a href=\"/img/flags/ir-flag.gif\"><img border=\"0\" height=\"80\" src=\"/img/flags/small/tn_ir-flag.gif\" width=\"120\"/></a><div style=\"font-weight:bold; padding-top:10px\">Iran</div></div></div>,\n",
       " <div class=\"col-md-4\" style=\"padding:15px; border:1px solid #ccc \"><div align=\"center\" style=\"margin-top:10px \"><a href=\"/img/flags/iz-flag.gif\"><img border=\"0\" height=\"80\" src=\"/img/flags/small/tn_iz-flag.gif\" width=\"120\"/></a><div style=\"font-weight:bold; padding-top:10px\">Iraq</div></div></div>,\n",
       " <div class=\"col-md-4\" style=\"padding:15px; border:1px solid #ccc \"><div align=\"center\" style=\"margin-top:10px \"><a href=\"/img/flags/ei-flag.gif\"><img border=\"0\" height=\"80\" src=\"/img/flags/small/tn_ei-flag.gif\" width=\"120\"/></a><div style=\"font-weight:bold; padding-top:10px\">Ireland</div></div></div>,\n",
       " <div class=\"col-md-4\" style=\"padding:15px; border:1px solid #ccc \"><div align=\"center\" style=\"margin-top:10px \"><a href=\"/img/flags/is-flag.gif\"><img border=\"0\" height=\"80\" src=\"/img/flags/small/tn_is-flag.gif\" width=\"120\"/></a><div style=\"font-weight:bold; padding-top:10px\">Israel</div></div></div>,\n",
       " <div class=\"col-md-4\" style=\"padding:15px; border:1px solid #ccc \"><div align=\"center\" style=\"margin-top:10px \"><a href=\"/img/flags/it-flag.gif\"><img border=\"0\" height=\"80\" src=\"/img/flags/small/tn_it-flag.gif\" width=\"120\"/></a><div style=\"font-weight:bold; padding-top:10px\">Italy</div></div></div>,\n",
       " <div class=\"col-md-4\" style=\"padding:15px; border:1px solid #ccc \"><div align=\"center\" style=\"margin-top:10px \"><a href=\"/img/flags/jm-flag.gif\"><img border=\"0\" height=\"80\" src=\"/img/flags/small/tn_jm-flag.gif\" width=\"120\"/></a><div style=\"font-weight:bold; padding-top:10px\">Jamaica</div></div></div>,\n",
       " <div class=\"col-md-4\" style=\"padding:15px; border:1px solid #ccc \"><div align=\"center\" style=\"margin-top:10px \"><a href=\"/img/flags/ja-flag.gif\"><img border=\"0\" height=\"80\" src=\"/img/flags/small/tn_ja-flag.gif\" width=\"120\"/></a><div style=\"font-weight:bold; padding-top:10px\">Japan</div></div></div>,\n",
       " <div class=\"col-md-4\" style=\"padding:15px; border:1px solid #ccc \"><div align=\"center\" style=\"margin-top:10px \"><a href=\"/img/flags/jo-flag.gif\"><img border=\"0\" height=\"80\" src=\"/img/flags/small/tn_jo-flag.gif\" width=\"120\"/></a><div style=\"font-weight:bold; padding-top:10px\">Jordan</div></div></div>,\n",
       " <div class=\"col-md-4\" style=\"padding:15px; border:1px solid #ccc \"><div align=\"center\" style=\"margin-top:10px \"><a href=\"/img/flags/kz-flag.gif\"><img border=\"0\" height=\"80\" src=\"/img/flags/small/tn_kz-flag.gif\" width=\"120\"/></a><div style=\"font-weight:bold; padding-top:10px\">Kazakhstan</div></div></div>,\n",
       " <div class=\"col-md-4\" style=\"padding:15px; border:1px solid #ccc \"><div align=\"center\" style=\"margin-top:10px \"><a href=\"/img/flags/ke-flag.gif\"><img border=\"0\" height=\"80\" src=\"/img/flags/small/tn_ke-flag.gif\" width=\"120\"/></a><div style=\"font-weight:bold; padding-top:10px\">Kenya</div></div></div>,\n",
       " <div class=\"col-md-4\" style=\"padding:15px; border:1px solid #ccc \"><div align=\"center\" style=\"margin-top:10px \"><a href=\"/img/flags/kr-flag.gif\"><img border=\"0\" height=\"80\" src=\"/img/flags/small/tn_kr-flag.gif\" width=\"120\"/></a><div style=\"font-weight:bold; padding-top:10px\">Kiribati</div></div></div>,\n",
       " <div class=\"col-md-4\" style=\"padding:15px; border:1px solid #ccc \"><div align=\"center\" style=\"margin-top:10px \"><a href=\"/img/flags/ku-flag.gif\"><img border=\"0\" height=\"80\" src=\"/img/flags/small/tn_ku-flag.gif\" width=\"120\"/></a><div style=\"font-weight:bold; padding-top:10px\">Kuwait</div></div></div>,\n",
       " <div class=\"col-md-4\" style=\"padding:15px; border:1px solid #ccc \"><div align=\"center\" style=\"margin-top:10px \"><a href=\"/img/flags/kg-flag.gif\"><img border=\"0\" height=\"80\" src=\"/img/flags/small/tn_kg-flag.gif\" width=\"120\"/></a><div style=\"font-weight:bold; padding-top:10px\">Kyrgyzstan</div></div></div>,\n",
       " <div class=\"col-md-4\" style=\"padding:15px; border:1px solid #ccc \"><div align=\"center\" style=\"margin-top:10px \"><a href=\"/img/flags/la-flag.gif\"><img border=\"0\" height=\"80\" src=\"/img/flags/small/tn_la-flag.gif\" width=\"120\"/></a><div style=\"font-weight:bold; padding-top:10px\">Laos</div></div></div>,\n",
       " <div class=\"col-md-4\" style=\"padding:15px; border:1px solid #ccc \"><div align=\"center\" style=\"margin-top:10px \"><a href=\"/img/flags/lg-flag.gif\"><img border=\"0\" height=\"80\" src=\"/img/flags/small/tn_lg-flag.gif\" width=\"120\"/></a><div style=\"font-weight:bold; padding-top:10px\">Latvia</div></div></div>,\n",
       " <div class=\"col-md-4\" style=\"padding:15px; border:1px solid #ccc \"><div align=\"center\" style=\"margin-top:10px \"><a href=\"/img/flags/le-flag.gif\"><img border=\"0\" height=\"80\" src=\"/img/flags/small/tn_le-flag.gif\" width=\"120\"/></a><div style=\"font-weight:bold; padding-top:10px\">Lebanon</div></div></div>,\n",
       " <div class=\"col-md-4\" style=\"padding:15px; border:1px solid #ccc \"><div align=\"center\" style=\"margin-top:10px \"><a href=\"/img/flags/lt-flag.gif\"><img border=\"0\" height=\"80\" src=\"/img/flags/small/tn_lt-flag.gif\" width=\"120\"/></a><div style=\"font-weight:bold; padding-top:10px\">Lesotho</div></div></div>,\n",
       " <div class=\"col-md-4\" style=\"padding:15px; border:1px solid #ccc \"><div align=\"center\" style=\"margin-top:10px \"><a href=\"/img/flags/li-flag.gif\"><img border=\"0\" height=\"80\" src=\"/img/flags/small/tn_li-flag.gif\" width=\"120\"/></a><div style=\"font-weight:bold; padding-top:10px\">Liberia</div></div></div>,\n",
       " <div class=\"col-md-4\" style=\"padding:15px; border:1px solid #ccc \"><div align=\"center\" style=\"margin-top:10px \"><a href=\"/img/flags/ly-flag.gif\"><img border=\"0\" height=\"80\" src=\"/img/flags/small/tn_ly-flag.gif\" width=\"120\"/></a><div style=\"font-weight:bold; padding-top:10px\">Libya</div></div></div>,\n",
       " <div class=\"col-md-4\" style=\"padding:15px; border:1px solid #ccc \"><div align=\"center\" style=\"margin-top:10px \"><a href=\"/img/flags/ls-flag.gif\"><img border=\"0\" height=\"80\" src=\"/img/flags/small/tn_ls-flag.gif\" width=\"120\"/></a><div style=\"font-weight:bold; padding-top:10px\">Liechtenstein</div></div></div>,\n",
       " <div class=\"col-md-4\" style=\"padding:15px; border:1px solid #ccc \"><div align=\"center\" style=\"margin-top:10px \"><a href=\"/img/flags/lh-flag.gif\"><img border=\"0\" height=\"80\" src=\"/img/flags/small/tn_lh-flag.gif\" width=\"120\"/></a><div style=\"font-weight:bold; padding-top:10px\">Lithuania</div></div></div>,\n",
       " <div class=\"col-md-4\" style=\"padding:15px; border:1px solid #ccc \"><div align=\"center\" style=\"margin-top:10px \"><a href=\"/img/flags/lu-flag.gif\"><img border=\"0\" height=\"80\" src=\"/img/flags/small/tn_lu-flag.gif\" width=\"120\"/></a><div style=\"font-weight:bold; padding-top:10px\">Luxembourg</div></div></div>,\n",
       " <div class=\"col-md-4\" style=\"padding:15px; border:1px solid #ccc \"><div align=\"center\" style=\"margin-top:10px \"><a href=\"/img/flags/ma-flag.gif\"><img border=\"0\" height=\"80\" src=\"/img/flags/small/tn_ma-flag.gif\" width=\"120\"/></a><div style=\"font-weight:bold; padding-top:10px\">Madagascar</div></div></div>,\n",
       " <div class=\"col-md-4\" style=\"padding:15px; border:1px solid #ccc \"><div align=\"center\" style=\"margin-top:10px \"><a href=\"/img/flags/mi-flag.gif\"><img border=\"0\" height=\"80\" src=\"/img/flags/small/tn_mi-flag.gif\" width=\"120\"/></a><div style=\"font-weight:bold; padding-top:10px\">Malawi</div></div></div>,\n",
       " <div class=\"col-md-4\" style=\"padding:15px; border:1px solid #ccc \"><div align=\"center\" style=\"margin-top:10px \"><a href=\"/img/flags/my-flag.gif\"><img border=\"0\" height=\"80\" src=\"/img/flags/small/tn_my-flag.gif\" width=\"120\"/></a><div style=\"font-weight:bold; padding-top:10px\">Malaysia</div></div></div>,\n",
       " <div class=\"col-md-4\" style=\"padding:15px; border:1px solid #ccc \"><div align=\"center\" style=\"margin-top:10px \"><a href=\"/img/flags/mv-flag.gif\"><img border=\"0\" height=\"80\" src=\"/img/flags/small/tn_mv-flag.gif\" width=\"120\"/></a><div style=\"font-weight:bold; padding-top:10px\">Maldives</div></div></div>,\n",
       " <div class=\"col-md-4\" style=\"padding:15px; border:1px solid #ccc \"><div align=\"center\" style=\"margin-top:10px \"><a href=\"/img/flags/ml-flag.gif\"><img border=\"0\" height=\"80\" src=\"/img/flags/small/tn_ml-flag.gif\" width=\"120\"/></a><div style=\"font-weight:bold; padding-top:10px\">Mali</div></div></div>,\n",
       " <div class=\"col-md-4\" style=\"padding:15px; border:1px solid #ccc \"><div align=\"center\" style=\"margin-top:10px \"><a href=\"/img/flags/mt-flag.gif\"><img border=\"0\" height=\"80\" src=\"/img/flags/small/tn_mt-flag.gif\" width=\"120\"/></a><div style=\"font-weight:bold; padding-top:10px\">Malta</div></div></div>,\n",
       " <div class=\"col-md-4\" style=\"padding:15px; border:1px solid #ccc \"><div align=\"center\" style=\"margin-top:10px \"><a href=\"/img/flags/rm-flag.gif\"><img border=\"0\" height=\"80\" src=\"/img/flags/small/tn_rm-flag.gif\" width=\"120\"/></a><div style=\"font-weight:bold; padding-top:10px\">Marshall Islands</div></div></div>,\n",
       " <div class=\"col-md-4\" style=\"padding:15px; border:1px solid #ccc \"><div align=\"center\" style=\"margin-top:10px \"><a href=\"/img/flags/mr-flag.gif\"><img border=\"0\" height=\"80\" src=\"/img/flags/small/tn_mr-flag.gif\" width=\"120\"/></a><div style=\"font-weight:bold; padding-top:10px\">Mauritania</div></div></div>,\n",
       " <div class=\"col-md-4\" style=\"padding:15px; border:1px solid #ccc \"><div align=\"center\" style=\"margin-top:10px \"><a href=\"/img/flags/mp-flag.gif\"><img border=\"0\" height=\"80\" src=\"/img/flags/small/tn_mp-flag.gif\" width=\"120\"/></a><div style=\"font-weight:bold; padding-top:10px\">Mauritius</div></div></div>,\n",
       " <div class=\"col-md-4\" style=\"padding:15px; border:1px solid #ccc \"><div align=\"center\" style=\"margin-top:10px \"><a href=\"/img/flags/mx-flag.gif\"><img border=\"0\" height=\"80\" src=\"/img/flags/small/tn_mx-flag.gif\" width=\"120\"/></a><div style=\"font-weight:bold; padding-top:10px\">Mexico</div></div></div>,\n",
       " <div class=\"col-md-4\" style=\"padding:15px; border:1px solid #ccc \"><div align=\"center\" style=\"margin-top:10px \"><a href=\"/img/flags/fm-flag.gif\"><img border=\"0\" height=\"80\" src=\"/img/flags/small/tn_fm-flag.gif\" width=\"120\"/></a><div style=\"font-weight:bold; padding-top:10px\">Micronesia</div></div></div>,\n",
       " <div class=\"col-md-4\" style=\"padding:15px; border:1px solid #ccc \"><div align=\"center\" style=\"margin-top:10px \"><a href=\"/img/flags/md-flag.gif\"><img border=\"0\" height=\"80\" src=\"/img/flags/small/tn_md-flag.gif\" width=\"120\"/></a><div style=\"font-weight:bold; padding-top:10px\">Moldova</div></div></div>,\n",
       " <div class=\"col-md-4\" style=\"padding:15px; border:1px solid #ccc \"><div align=\"center\" style=\"margin-top:10px \"><a href=\"/img/flags/mn-flag.gif\"><img border=\"0\" height=\"80\" src=\"/img/flags/small/tn_mn-flag.gif\" width=\"120\"/></a><div style=\"font-weight:bold; padding-top:10px\">Monaco</div></div></div>,\n",
       " <div class=\"col-md-4\" style=\"padding:15px; border:1px solid #ccc \"><div align=\"center\" style=\"margin-top:10px \"><a href=\"/img/flags/mg-flag.gif\"><img border=\"0\" height=\"80\" src=\"/img/flags/small/tn_mg-flag.gif\" width=\"120\"/></a><div style=\"font-weight:bold; padding-top:10px\">Mongolia</div></div></div>,\n",
       " <div class=\"col-md-4\" style=\"padding:15px; border:1px solid #ccc \"><div align=\"center\" style=\"margin-top:10px \"><a href=\"/img/flags/mj-flag.gif\"><img border=\"0\" height=\"80\" src=\"/img/flags/small/tn_mj-flag.gif\" width=\"120\"/></a><div style=\"font-weight:bold; padding-top:10px\">Montenegro</div></div></div>,\n",
       " <div class=\"col-md-4\" style=\"padding:15px; border:1px solid #ccc \"><div align=\"center\" style=\"margin-top:10px \"><a href=\"/img/flags/mo-flag.gif\"><img border=\"0\" height=\"80\" src=\"/img/flags/small/tn_mo-flag.gif\" width=\"120\"/></a><div style=\"font-weight:bold; padding-top:10px\">Morocco</div></div></div>,\n",
       " <div class=\"col-md-4\" style=\"padding:15px; border:1px solid #ccc \"><div align=\"center\" style=\"margin-top:10px \"><a href=\"/img/flags/mz-flag.gif\"><img border=\"0\" height=\"80\" src=\"/img/flags/small/tn_mz-flag.gif\" width=\"120\"/></a><div style=\"font-weight:bold; padding-top:10px\">Mozambique</div></div></div>,\n",
       " <div class=\"col-md-4\" style=\"padding:15px; border:1px solid #ccc \"><div align=\"center\" style=\"margin-top:10px \"><a href=\"/img/flags/bm-flag.gif\"><img border=\"0\" height=\"80\" src=\"/img/flags/small/tn_bm-flag.gif\" width=\"120\"/></a><div style=\"font-weight:bold; padding-top:10px\">Myanmar</div></div></div>,\n",
       " <div class=\"col-md-4\" style=\"padding:15px; border:1px solid #ccc \"><div align=\"center\" style=\"margin-top:10px \"><a href=\"/img/flags/wa-flag.gif\"><img border=\"0\" height=\"80\" src=\"/img/flags/small/tn_wa-flag.gif\" width=\"120\"/></a><div style=\"font-weight:bold; padding-top:10px\">Namibia</div></div></div>,\n",
       " <div class=\"col-md-4\" style=\"padding:15px; border:1px solid #ccc \"><div align=\"center\" style=\"margin-top:10px \"><a href=\"/img/flags/nr-flag.gif\"><img border=\"0\" height=\"80\" src=\"/img/flags/small/tn_nr-flag.gif\" width=\"120\"/></a><div style=\"font-weight:bold; padding-top:10px\">Nauru</div></div></div>,\n",
       " <div class=\"col-md-4\" style=\"padding:15px; border:1px solid #ccc \"><div align=\"center\" style=\"margin-top:10px \"><a href=\"/img/flags/np-flag.gif\"><img border=\"0\" height=\"80\" src=\"/img/flags/small/tn_np-flag.gif\" width=\"120\"/></a><div style=\"font-weight:bold; padding-top:10px\">Nepal</div></div></div>,\n",
       " <div class=\"col-md-4\" style=\"padding:15px; border:1px solid #ccc \"><div align=\"center\" style=\"margin-top:10px \"><a href=\"/img/flags/nl-flag.gif\"><img border=\"0\" height=\"80\" src=\"/img/flags/small/tn_nl-flag.gif\" width=\"120\"/></a><div style=\"font-weight:bold; padding-top:10px\">Netherlands</div></div></div>,\n",
       " <div class=\"col-md-4\" style=\"padding:15px; border:1px solid #ccc \"><div align=\"center\" style=\"margin-top:10px \"><a href=\"/img/flags/nz-flag.gif\"><img border=\"0\" height=\"80\" src=\"/img/flags/small/tn_nz-flag.gif\" width=\"120\"/></a><div style=\"font-weight:bold; padding-top:10px\">New Zealand</div></div></div>,\n",
       " <div class=\"col-md-4\" style=\"padding:15px; border:1px solid #ccc \"><div align=\"center\" style=\"margin-top:10px \"><a href=\"/img/flags/nu-flag.gif\"><img border=\"0\" height=\"80\" src=\"/img/flags/small/tn_nu-flag.gif\" width=\"120\"/></a><div style=\"font-weight:bold; padding-top:10px\">Nicaragua</div></div></div>,\n",
       " <div class=\"col-md-4\" style=\"padding:15px; border:1px solid #ccc \"><div align=\"center\" style=\"margin-top:10px \"><a href=\"/img/flags/ng-flag.gif\"><img border=\"0\" height=\"80\" src=\"/img/flags/small/tn_ng-flag.gif\" width=\"120\"/></a><div style=\"font-weight:bold; padding-top:10px\">Niger</div></div></div>,\n",
       " <div class=\"col-md-4\" style=\"padding:15px; border:1px solid #ccc \"><div align=\"center\" style=\"margin-top:10px \"><a href=\"/img/flags/ni-flag.gif\"><img border=\"0\" height=\"80\" src=\"/img/flags/small/tn_ni-flag.gif\" width=\"120\"/></a><div style=\"font-weight:bold; padding-top:10px\">Nigeria</div></div></div>,\n",
       " <div class=\"col-md-4\" style=\"padding:15px; border:1px solid #ccc \"><div align=\"center\" style=\"margin-top:10px \"><a href=\"/img/flags/mk-flag.gif\"><img border=\"0\" height=\"80\" src=\"/img/flags/small/tn_mk-flag.gif\" width=\"120\"/></a><div style=\"font-weight:bold; padding-top:10px\">North Macedonia</div></div></div>,\n",
       " <div class=\"col-md-4\" style=\"padding:15px; border:1px solid #ccc \"><div align=\"center\" style=\"margin-top:10px \"><a href=\"/img/flags/no-flag.gif\"><img border=\"0\" height=\"80\" src=\"/img/flags/small/tn_no-flag.gif\" width=\"120\"/></a><div style=\"font-weight:bold; padding-top:10px\">Norway</div></div></div>,\n",
       " <div class=\"col-md-4\" style=\"padding:15px; border:1px solid #ccc \"><div align=\"center\" style=\"margin-top:10px \"><a href=\"/img/flags/mu-flag.gif\"><img border=\"0\" height=\"80\" src=\"/img/flags/small/tn_mu-flag.gif\" width=\"120\"/></a><div style=\"font-weight:bold; padding-top:10px\">Oman</div></div></div>,\n",
       " <div class=\"col-md-4\" style=\"padding:15px; border:1px solid #ccc \"><div align=\"center\" style=\"margin-top:10px \"><a href=\"/img/flags/pk-flag.gif\"><img border=\"0\" height=\"80\" src=\"/img/flags/small/tn_pk-flag.gif\" width=\"120\"/></a><div style=\"font-weight:bold; padding-top:10px\">Pakistan</div></div></div>,\n",
       " <div class=\"col-md-4\" style=\"padding:15px; border:1px solid #ccc \"><div align=\"center\" style=\"margin-top:10px \"><a href=\"/img/flags/ps-flag.gif\"><img border=\"0\" height=\"80\" src=\"/img/flags/small/tn_ps-flag.gif\" width=\"120\"/></a><div style=\"font-weight:bold; padding-top:10px\">Palau</div></div></div>,\n",
       " <div class=\"col-md-4\" style=\"padding:15px; border:1px solid #ccc \"><div align=\"center\" style=\"margin-top:10px \"><a href=\"/img/flags/pm-flag.gif\"><img border=\"0\" height=\"80\" src=\"/img/flags/small/tn_pm-flag.gif\" width=\"120\"/></a><div style=\"font-weight:bold; padding-top:10px\">Panama</div></div></div>,\n",
       " <div class=\"col-md-4\" style=\"padding:15px; border:1px solid #ccc \"><div align=\"center\" style=\"margin-top:10px \"><a href=\"/img/flags/pp-flag.gif\"><img border=\"0\" height=\"80\" src=\"/img/flags/small/tn_pp-flag.gif\" width=\"120\"/></a><div style=\"font-weight:bold; padding-top:10px\">Papua New Guinea</div></div></div>,\n",
       " <div class=\"col-md-4\" style=\"padding:15px; border:1px solid #ccc \"><div align=\"center\" style=\"margin-top:10px \"><a href=\"/img/flags/pa-flag.gif\"><img border=\"0\" height=\"80\" src=\"/img/flags/small/tn_pa-flag.gif\" width=\"120\"/></a><div style=\"font-weight:bold; padding-top:10px\">Paraguay</div></div></div>,\n",
       " <div class=\"col-md-4\" style=\"padding:15px; border:1px solid #ccc \"><div align=\"center\" style=\"margin-top:10px \"><a href=\"/img/flags/pe-flag.gif\"><img border=\"0\" height=\"80\" src=\"/img/flags/small/tn_pe-flag.gif\" width=\"120\"/></a><div style=\"font-weight:bold; padding-top:10px\">Peru</div></div></div>,\n",
       " <div class=\"col-md-4\" style=\"padding:15px; border:1px solid #ccc \"><div align=\"center\" style=\"margin-top:10px \"><a href=\"/img/flags/rp-flag.gif\"><img border=\"0\" height=\"80\" src=\"/img/flags/small/tn_rp-flag.gif\" width=\"120\"/></a><div style=\"font-weight:bold; padding-top:10px\">Philippines</div></div></div>,\n",
       " <div class=\"col-md-4\" style=\"padding:15px; border:1px solid #ccc \"><div align=\"center\" style=\"margin-top:10px \"><a href=\"/img/flags/pl-flag.gif\"><img border=\"0\" height=\"80\" src=\"/img/flags/small/tn_pl-flag.gif\" width=\"120\"/></a><div style=\"font-weight:bold; padding-top:10px\">Poland</div></div></div>,\n",
       " <div class=\"col-md-4\" style=\"padding:15px; border:1px solid #ccc \"><div align=\"center\" style=\"margin-top:10px \"><a href=\"/img/flags/po-flag.gif\"><img border=\"0\" height=\"80\" src=\"/img/flags/small/tn_po-flag.gif\" width=\"120\"/></a><div style=\"font-weight:bold; padding-top:10px\">Portugal</div></div></div>,\n",
       " <div class=\"col-md-4\" style=\"padding:15px; border:1px solid #ccc \"><div align=\"center\" style=\"margin-top:10px \"><a href=\"/img/flags/qa-flag.gif\"><img border=\"0\" height=\"80\" src=\"/img/flags/small/tn_qa-flag.gif\" width=\"120\"/></a><div style=\"font-weight:bold; padding-top:10px\">Qatar</div></div></div>,\n",
       " <div class=\"col-md-4\" style=\"padding:15px; border:1px solid #ccc \"><div align=\"center\" style=\"margin-top:10px \"><a href=\"/img/flags/ro-flag.gif\"><img border=\"0\" height=\"80\" src=\"/img/flags/small/tn_ro-flag.gif\" width=\"120\"/></a><div style=\"font-weight:bold; padding-top:10px\">Romania</div></div></div>,\n",
       " <div class=\"col-md-4\" style=\"padding:15px; border:1px solid #ccc \"><div align=\"center\" style=\"margin-top:10px \"><a href=\"/img/flags/rs-flag.gif\"><img border=\"0\" height=\"80\" src=\"/img/flags/small/tn_rs-flag.gif\" width=\"120\"/></a><div style=\"font-weight:bold; padding-top:10px\">Russia</div></div></div>,\n",
       " <div class=\"col-md-4\" style=\"padding:15px; border:1px solid #ccc \"><div align=\"center\" style=\"margin-top:10px \"><a href=\"/img/flags/rw-flag.gif\"><img border=\"0\" height=\"80\" src=\"/img/flags/small/tn_rw-flag.gif\" width=\"120\"/></a><div style=\"font-weight:bold; padding-top:10px\">Rwanda</div></div></div>,\n",
       " <div class=\"col-md-4\" style=\"padding:15px; border:1px solid #ccc \"><div align=\"center\" style=\"margin-top:10px \"><a href=\"/img/flags/sc-flag.gif\"><img border=\"0\" height=\"80\" src=\"/img/flags/small/tn_sc-flag.gif\" width=\"120\"/></a><div style=\"font-weight:bold; padding-top:10px\">Saint Kitts and Nevis</div></div></div>,\n",
       " <div class=\"col-md-4\" style=\"padding:15px; border:1px solid #ccc \"><div align=\"center\" style=\"margin-top:10px \"><a href=\"/img/flags/st-flag.gif\"><img border=\"0\" height=\"80\" src=\"/img/flags/small/tn_st-flag.gif\" width=\"120\"/></a><div style=\"font-weight:bold; padding-top:10px\">Saint Lucia</div></div></div>,\n",
       " <div class=\"col-md-4\" style=\"padding:15px; border:1px solid #ccc \"><div align=\"center\" style=\"margin-top:10px \"><a href=\"/img/flags/ws-flag.gif\"><img border=\"0\" height=\"80\" src=\"/img/flags/small/tn_ws-flag.gif\" width=\"120\"/></a><div style=\"font-weight:bold; padding-top:10px\">Samoa</div></div></div>,\n",
       " <div class=\"col-md-4\" style=\"padding:15px; border:1px solid #ccc \"><div align=\"center\" style=\"margin-top:10px \"><a href=\"/img/flags/sm-flag.gif\"><img border=\"0\" height=\"80\" src=\"/img/flags/small/tn_sm-flag.gif\" width=\"120\"/></a><div style=\"font-weight:bold; padding-top:10px\">San Marino</div></div></div>,\n",
       " <div class=\"col-md-4\" style=\"padding:15px; border:1px solid #ccc \"><div align=\"center\" style=\"margin-top:10px \"><a href=\"/img/flags/tp-flag.gif\"><img border=\"0\" height=\"80\" src=\"/img/flags/small/tn_tp-flag.gif\" width=\"120\"/></a><div style=\"font-weight:bold; padding-top:10px\">Sao Tome and Principe</div></div></div>,\n",
       " <div class=\"col-md-4\" style=\"padding:15px; border:1px solid #ccc \"><div align=\"center\" style=\"margin-top:10px \"><a href=\"/img/flags/sa-flag.gif\"><img border=\"0\" height=\"80\" src=\"/img/flags/small/tn_sa-flag.gif\" width=\"120\"/></a><div style=\"font-weight:bold; padding-top:10px\">Saudi Arabia</div></div></div>,\n",
       " <div class=\"col-md-4\" style=\"padding:15px; border:1px solid #ccc \"><div align=\"center\" style=\"margin-top:10px \"><a href=\"/img/flags/sg-flag.gif\"><img border=\"0\" height=\"80\" src=\"/img/flags/small/tn_sg-flag.gif\" width=\"120\"/></a><div style=\"font-weight:bold; padding-top:10px\">Senegal</div></div></div>,\n",
       " <div class=\"col-md-4\" style=\"padding:15px; border:1px solid #ccc \"><div align=\"center\" style=\"margin-top:10px \"><a href=\"/img/flags/ri-flag.gif\"><img border=\"0\" height=\"80\" src=\"/img/flags/small/tn_ri-flag.gif\" width=\"120\"/></a><div style=\"font-weight:bold; padding-top:10px\">Serbia</div></div></div>,\n",
       " <div class=\"col-md-4\" style=\"padding:15px; border:1px solid #ccc \"><div align=\"center\" style=\"margin-top:10px \"><a href=\"/img/flags/se-flag.gif\"><img border=\"0\" height=\"80\" src=\"/img/flags/small/tn_se-flag.gif\" width=\"120\"/></a><div style=\"font-weight:bold; padding-top:10px\">Seychelles</div></div></div>,\n",
       " <div class=\"col-md-4\" style=\"padding:15px; border:1px solid #ccc \"><div align=\"center\" style=\"margin-top:10px \"><a href=\"/img/flags/sl-flag.gif\"><img border=\"0\" height=\"80\" src=\"/img/flags/small/tn_sl-flag.gif\" width=\"120\"/></a><div style=\"font-weight:bold; padding-top:10px\">Sierra Leone</div></div></div>,\n",
       " <div class=\"col-md-4\" style=\"padding:15px; border:1px solid #ccc \"><div align=\"center\" style=\"margin-top:10px \"><a href=\"/img/flags/sn-flag.gif\"><img border=\"0\" height=\"80\" src=\"/img/flags/small/tn_sn-flag.gif\" width=\"120\"/></a><div style=\"font-weight:bold; padding-top:10px\">Singapore</div></div></div>,\n",
       " <div class=\"col-md-4\" style=\"padding:15px; border:1px solid #ccc \"><div align=\"center\" style=\"margin-top:10px \"><a href=\"/img/flags/lo-flag.gif\"><img border=\"0\" height=\"80\" src=\"/img/flags/small/tn_lo-flag.gif\" width=\"120\"/></a><div style=\"font-weight:bold; padding-top:10px\">Slovakia</div></div></div>,\n",
       " <div class=\"col-md-4\" style=\"padding:15px; border:1px solid #ccc \"><div align=\"center\" style=\"margin-top:10px \"><a href=\"/img/flags/si-flag.gif\"><img border=\"0\" height=\"80\" src=\"/img/flags/small/tn_si-flag.gif\" width=\"120\"/></a><div style=\"font-weight:bold; padding-top:10px\">Slovenia</div></div></div>,\n",
       " <div class=\"col-md-4\" style=\"padding:15px; border:1px solid #ccc \"><div align=\"center\" style=\"margin-top:10px \"><a href=\"/img/flags/bp-flag.gif\"><img border=\"0\" height=\"80\" src=\"/img/flags/small/tn_bp-flag.gif\" width=\"120\"/></a><div style=\"font-weight:bold; padding-top:10px\">Solomon Islands</div></div></div>,\n",
       " <div class=\"col-md-4\" style=\"padding:15px; border:1px solid #ccc \"><div align=\"center\" style=\"margin-top:10px \"><a href=\"/img/flags/so-flag.gif\"><img border=\"0\" height=\"80\" src=\"/img/flags/small/tn_so-flag.gif\" width=\"120\"/></a><div style=\"font-weight:bold; padding-top:10px\">Somalia</div></div></div>,\n",
       " <div class=\"col-md-4\" style=\"padding:15px; border:1px solid #ccc \"><div align=\"center\" style=\"margin-top:10px \"><a href=\"/img/flags/sf-flag.gif\"><img border=\"0\" height=\"80\" src=\"/img/flags/small/tn_sf-flag.gif\" width=\"120\"/></a><div style=\"font-weight:bold; padding-top:10px\">South Africa</div></div></div>,\n",
       " <div class=\"col-md-4\" style=\"padding:15px; border:1px solid #ccc \"><div align=\"center\" style=\"margin-top:10px \"><a href=\"/img/flags/ks-flag.gif\"><img border=\"0\" height=\"80\" src=\"/img/flags/small/tn_ks-flag.gif\" width=\"120\"/></a><div style=\"font-weight:bold; padding-top:10px\">South Korea</div></div></div>,\n",
       " <div class=\"col-md-4\" style=\"padding:15px; border:1px solid #ccc \"><div align=\"center\" style=\"margin-top:10px \"><a href=\"/img/flags/od-flag.gif\"><img border=\"0\" height=\"80\" src=\"/img/flags/small/tn_od-flag.gif\" width=\"120\"/></a><div style=\"font-weight:bold; padding-top:10px\">South Sudan</div></div></div>,\n",
       " <div class=\"col-md-4\" style=\"padding:15px; border:1px solid #ccc \"><div align=\"center\" style=\"margin-top:10px \"><a href=\"/img/flags/sp-flag.gif\"><img border=\"0\" height=\"80\" src=\"/img/flags/small/tn_sp-flag.gif\" width=\"120\"/></a><div style=\"font-weight:bold; padding-top:10px\">Spain</div></div></div>,\n",
       " <div class=\"col-md-4\" style=\"padding:15px; border:1px solid #ccc \"><div align=\"center\" style=\"margin-top:10px \"><a href=\"/img/flags/ce-flag.gif\"><img border=\"0\" height=\"80\" src=\"/img/flags/small/tn_ce-flag.gif\" width=\"120\"/></a><div style=\"font-weight:bold; padding-top:10px\">Sri Lanka</div></div></div>,\n",
       " <div class=\"col-md-4\" style=\"padding:15px; border:1px solid #ccc \"><div align=\"center\" style=\"margin-top:10px \"><a href=\"/img/flags/vc-flag.gif\"><img border=\"0\" height=\"80\" src=\"/img/flags/small/tn_vc-flag.gif\" width=\"120\"/></a><div style=\"font-weight:bold; padding-top:10px\">St. Vincent Grenadines</div></div></div>,\n",
       " <div class=\"col-md-4\" style=\"padding:15px; border:1px solid #ccc \"><div align=\"center\" style=\"margin-top:10px \"><a href=\"/img/flags/palestine-flag.gif\"><img border=\"0\" height=\"80\" src=\"/img/flags/small/tn_palestine-flag.gif\" width=\"120\"/></a><div style=\"font-weight:bold; padding-top:10px\">State of Palestine</div></div></div>,\n",
       " <div class=\"col-md-4\" style=\"padding:15px; border:1px solid #ccc \"><div align=\"center\" style=\"margin-top:10px \"><a href=\"/img/flags/su-flag.gif\"><img border=\"0\" height=\"80\" src=\"/img/flags/small/tn_su-flag.gif\" width=\"120\"/></a><div style=\"font-weight:bold; padding-top:10px\">Sudan</div></div></div>,\n",
       " <div class=\"col-md-4\" style=\"padding:15px; border:1px solid #ccc \"><div align=\"center\" style=\"margin-top:10px \"><a href=\"/img/flags/ns-flag.gif\"><img border=\"0\" height=\"80\" src=\"/img/flags/small/tn_ns-flag.gif\" width=\"120\"/></a><div style=\"font-weight:bold; padding-top:10px\">Suriname</div></div></div>,\n",
       " <div class=\"col-md-4\" style=\"padding:15px; border:1px solid #ccc \"><div align=\"center\" style=\"margin-top:10px \"><a href=\"/img/flags/sw-flag.gif\"><img border=\"0\" height=\"80\" src=\"/img/flags/small/tn_sw-flag.gif\" width=\"120\"/></a><div style=\"font-weight:bold; padding-top:10px\">Sweden</div></div></div>,\n",
       " <div class=\"col-md-4\" style=\"padding:15px; border:1px solid #ccc \"><div align=\"center\" style=\"margin-top:10px \"><a href=\"/img/flags/sz-flag.gif\"><img border=\"0\" height=\"80\" src=\"/img/flags/small/tn_sz-flag.gif\" width=\"120\"/></a><div style=\"font-weight:bold; padding-top:10px\">Switzerland</div></div></div>,\n",
       " <div class=\"col-md-4\" style=\"padding:15px; border:1px solid #ccc \"><div align=\"center\" style=\"margin-top:10px \"><a href=\"/img/flags/sy-flag.gif\"><img border=\"0\" height=\"80\" src=\"/img/flags/small/tn_sy-flag.gif\" width=\"120\"/></a><div style=\"font-weight:bold; padding-top:10px\">Syria</div></div></div>,\n",
       " <div class=\"col-md-4\" style=\"padding:15px; border:1px solid #ccc \"><div align=\"center\" style=\"margin-top:10px \"><a href=\"/img/flags/ti-flag.gif\"><img border=\"0\" height=\"80\" src=\"/img/flags/small/tn_ti-flag.gif\" width=\"120\"/></a><div style=\"font-weight:bold; padding-top:10px\">Tajikistan</div></div></div>,\n",
       " <div class=\"col-md-4\" style=\"padding:15px; border:1px solid #ccc \"><div align=\"center\" style=\"margin-top:10px \"><a href=\"/img/flags/tz-flag.gif\"><img border=\"0\" height=\"80\" src=\"/img/flags/small/tn_tz-flag.gif\" width=\"120\"/></a><div style=\"font-weight:bold; padding-top:10px\">Tanzania</div></div></div>,\n",
       " <div class=\"col-md-4\" style=\"padding:15px; border:1px solid #ccc \"><div align=\"center\" style=\"margin-top:10px \"><a href=\"/img/flags/th-flag.gif\"><img border=\"0\" height=\"80\" src=\"/img/flags/small/tn_th-flag.gif\" width=\"120\"/></a><div style=\"font-weight:bold; padding-top:10px\">Thailand</div></div></div>,\n",
       " <div class=\"col-md-4\" style=\"padding:15px; border:1px solid #ccc \"><div align=\"center\" style=\"margin-top:10px \"><a href=\"/img/flags/tt-flag.gif\"><img border=\"0\" height=\"80\" src=\"/img/flags/small/tn_tt-flag.gif\" width=\"120\"/></a><div style=\"font-weight:bold; padding-top:10px\">Timor-Leste</div></div></div>,\n",
       " <div class=\"col-md-4\" style=\"padding:15px; border:1px solid #ccc \"><div align=\"center\" style=\"margin-top:10px \"><a href=\"/img/flags/to-flag.gif\"><img border=\"0\" height=\"80\" src=\"/img/flags/small/tn_to-flag.gif\" width=\"120\"/></a><div style=\"font-weight:bold; padding-top:10px\">Togo</div></div></div>,\n",
       " <div class=\"col-md-4\" style=\"padding:15px; border:1px solid #ccc \"><div align=\"center\" style=\"margin-top:10px \"><a href=\"/img/flags/tn-flag.gif\"><img border=\"0\" height=\"80\" src=\"/img/flags/small/tn_tn-flag.gif\" width=\"120\"/></a><div style=\"font-weight:bold; padding-top:10px\">Tonga</div></div></div>,\n",
       " <div class=\"col-md-4\" style=\"padding:15px; border:1px solid #ccc \"><div align=\"center\" style=\"margin-top:10px \"><a href=\"/img/flags/td-flag.gif\"><img border=\"0\" height=\"80\" src=\"/img/flags/small/tn_td-flag.gif\" width=\"120\"/></a><div style=\"font-weight:bold; padding-top:10px\">Trinidad and Tobago</div></div></div>,\n",
       " <div class=\"col-md-4\" style=\"padding:15px; border:1px solid #ccc \"><div align=\"center\" style=\"margin-top:10px \"><a href=\"/img/flags/ts-flag.gif\"><img border=\"0\" height=\"80\" src=\"/img/flags/small/tn_ts-flag.gif\" width=\"120\"/></a><div style=\"font-weight:bold; padding-top:10px\">Tunisia</div></div></div>,\n",
       " <div class=\"col-md-4\" style=\"padding:15px; border:1px solid #ccc \"><div align=\"center\" style=\"margin-top:10px \"><a href=\"/img/flags/tu-flag.gif\"><img border=\"0\" height=\"80\" src=\"/img/flags/small/tn_tu-flag.gif\" width=\"120\"/></a><div style=\"font-weight:bold; padding-top:10px\">Turkey</div></div></div>,\n",
       " <div class=\"col-md-4\" style=\"padding:15px; border:1px solid #ccc \"><div align=\"center\" style=\"margin-top:10px \"><a href=\"/img/flags/tx-flag.gif\"><img border=\"0\" height=\"80\" src=\"/img/flags/small/tn_tx-flag.gif\" width=\"120\"/></a><div style=\"font-weight:bold; padding-top:10px\">Turkmenistan</div></div></div>,\n",
       " <div class=\"col-md-4\" style=\"padding:15px; border:1px solid #ccc \"><div align=\"center\" style=\"margin-top:10px \"><a href=\"/img/flags/tv-flag.gif\"><img border=\"0\" height=\"80\" src=\"/img/flags/small/tn_tv-flag.gif\" width=\"120\"/></a><div style=\"font-weight:bold; padding-top:10px\">Tuvalu</div></div></div>,\n",
       " <div class=\"col-md-4\" style=\"padding:15px; border:1px solid #ccc \"><div align=\"center\" style=\"margin-top:10px \"><a href=\"/img/flags/ae-flag.gif\"><img border=\"0\" height=\"80\" src=\"/img/flags/small/tn_ae-flag.gif\" width=\"120\"/></a><div style=\"font-weight:bold; padding-top:10px\">U.A.E.</div></div></div>,\n",
       " <div class=\"col-md-4\" style=\"padding:15px; border:1px solid #ccc \"><div align=\"center\" style=\"margin-top:10px \"><a href=\"/img/flags/uk-flag.gif\"><img border=\"0\" height=\"80\" src=\"/img/flags/small/tn_uk-flag.gif\" width=\"120\"/></a><div style=\"font-weight:bold; padding-top:10px\">U.K.</div></div></div>,\n",
       " <div class=\"col-md-4\" style=\"padding:15px; border:1px solid #ccc \"><div align=\"center\" style=\"margin-top:10px \"><a href=\"/img/flags/us-flag.gif\"><img border=\"0\" height=\"80\" src=\"/img/flags/small/tn_us-flag.gif\" width=\"120\"/></a><div style=\"font-weight:bold; padding-top:10px\">U.S.</div></div></div>,\n",
       " <div class=\"col-md-4\" style=\"padding:15px; border:1px solid #ccc \"><div align=\"center\" style=\"margin-top:10px \"><a href=\"/img/flags/ug-flag.gif\"><img border=\"0\" height=\"80\" src=\"/img/flags/small/tn_ug-flag.gif\" width=\"120\"/></a><div style=\"font-weight:bold; padding-top:10px\">Uganda</div></div></div>,\n",
       " <div class=\"col-md-4\" style=\"padding:15px; border:1px solid #ccc \"><div align=\"center\" style=\"margin-top:10px \"><a href=\"/img/flags/up-flag.gif\"><img border=\"0\" height=\"80\" src=\"/img/flags/small/tn_up-flag.gif\" width=\"120\"/></a><div style=\"font-weight:bold; padding-top:10px\">Ukraine</div></div></div>,\n",
       " <div class=\"col-md-4\" style=\"padding:15px; border:1px solid #ccc \"><div align=\"center\" style=\"margin-top:10px \"><a href=\"/img/flags/uy-flag.gif\"><img border=\"0\" height=\"80\" src=\"/img/flags/small/tn_uy-flag.gif\" width=\"120\"/></a><div style=\"font-weight:bold; padding-top:10px\">Uruguay</div></div></div>,\n",
       " <div class=\"col-md-4\" style=\"padding:15px; border:1px solid #ccc \"><div align=\"center\" style=\"margin-top:10px \"><a href=\"/img/flags/uz-flag.gif\"><img border=\"0\" height=\"80\" src=\"/img/flags/small/tn_uz-flag.gif\" width=\"120\"/></a><div style=\"font-weight:bold; padding-top:10px\">Uzbekistan</div></div></div>,\n",
       " <div class=\"col-md-4\" style=\"padding:15px; border:1px solid #ccc \"><div align=\"center\" style=\"margin-top:10px \"><a href=\"/img/flags/nh-flag.gif\"><img border=\"0\" height=\"80\" src=\"/img/flags/small/tn_nh-flag.gif\" width=\"120\"/></a><div style=\"font-weight:bold; padding-top:10px\">Vanuatu</div></div></div>,\n",
       " <div class=\"col-md-4\" style=\"padding:15px; border:1px solid #ccc \"><div align=\"center\" style=\"margin-top:10px \"><a href=\"/img/flags/ve-flag.gif\"><img border=\"0\" height=\"80\" src=\"/img/flags/small/tn_ve-flag.gif\" width=\"120\"/></a><div style=\"font-weight:bold; padding-top:10px\">Venezuela</div></div></div>,\n",
       " <div class=\"col-md-4\" style=\"padding:15px; border:1px solid #ccc \"><div align=\"center\" style=\"margin-top:10px \"><a href=\"/img/flags/vm-flag.gif\"><img border=\"0\" height=\"80\" src=\"/img/flags/small/tn_vm-flag.gif\" width=\"120\"/></a><div style=\"font-weight:bold; padding-top:10px\">Vietnam</div></div></div>,\n",
       " <div class=\"col-md-4\" style=\"padding:15px; border:1px solid #ccc \"><div align=\"center\" style=\"margin-top:10px \"><a href=\"/img/flags/ym-flag.gif\"><img border=\"0\" height=\"80\" src=\"/img/flags/small/tn_ym-flag.gif\" width=\"120\"/></a><div style=\"font-weight:bold; padding-top:10px\">Yemen</div></div></div>,\n",
       " <div class=\"col-md-4\" style=\"padding:15px; border:1px solid #ccc \"><div align=\"center\" style=\"margin-top:10px \"><a href=\"/img/flags/za-flag.gif\"><img border=\"0\" height=\"80\" src=\"/img/flags/small/tn_za-flag.gif\" width=\"120\"/></a><div style=\"font-weight:bold; padding-top:10px\">Zambia</div></div></div>,\n",
       " <div class=\"col-md-4\" style=\"padding:15px; border:1px solid #ccc \"><div align=\"center\" style=\"margin-top:10px \"><a href=\"/img/flags/zi-flag.gif\"><img border=\"0\" height=\"80\" src=\"/img/flags/small/tn_zi-flag.gif\" width=\"120\"/></a><div style=\"font-weight:bold; padding-top:10px\">Zimbabwe</div></div></div>,\n",
       " <div class=\"col-md-4 adright\"><div><!-- AD START --><script async=\"\" src=\"//pagead2.googlesyndication.com/pagead/js/adsbygoogle.js\"></script><!-- wm 300x600 --><ins class=\"adsbygoogle\" data-ad-client=\"ca-pub-3701697624350410\" data-ad-slot=\"2348228155\" style=\"display:inline-block;width:300px;height:600px\"></ins><script>(adsbygoogle = window.adsbygoogle || []).push({});</script><!-- AD END --></div><div style=\"margin-top:40px; margin-bottom:40px;\"><script async=\"\" crossorigin=\"anonymous\" src=\"https://pagead2.googlesyndication.com/pagead/js/adsbygoogle.js?client=ca-pub-3701697624350410\"></script><!-- wm_top_right_3 --><ins class=\"adsbygoogle\" data-ad-client=\"ca-pub-3701697624350410\" data-ad-format=\"auto\" data-ad-slot=\"3622111629\" data-full-width-responsive=\"true\" style=\"display:block\"></ins><script> (adsbygoogle = window.adsbygoogle || []).push({});</script></div><div style=\"margin-top:30px\"></div><!-- worldometers_300x600_160x600_300x250_336x280_Right_2 --><div id=\"worldometers_300x600_160x600_300x250_336x280_Right_2\"></div></div>]"
      ]
     },
     "execution_count": 5,
     "metadata": {},
     "output_type": "execute_result"
    }
   ],
   "source": [
    "flag_node"
   ]
  },
  {
   "cell_type": "code",
   "execution_count": 6,
   "id": "15fe621c-31eb-4799-8ad8-5a930fbb6c8c",
   "metadata": {},
   "outputs": [
    {
     "ename": "TypeError",
     "evalue": "'NoneType' object is not subscriptable",
     "output_type": "error",
     "traceback": [
      "\u001b[1;31m---------------------------------------------------------------------------\u001b[0m",
      "\u001b[1;31mTypeError\u001b[0m                                 Traceback (most recent call last)",
      "Cell \u001b[1;32mIn[6], line 1\u001b[0m\n\u001b[1;32m----> 1\u001b[0m flag \u001b[38;5;241m=\u001b[39m [x\u001b[38;5;241m.\u001b[39mfind(\u001b[38;5;124m'\u001b[39m\u001b[38;5;124ma\u001b[39m\u001b[38;5;124m'\u001b[39m)[\u001b[38;5;124m'\u001b[39m\u001b[38;5;124mhref\u001b[39m\u001b[38;5;124m'\u001b[39m] \u001b[38;5;28;01mfor\u001b[39;00m x \u001b[38;5;129;01min\u001b[39;00m flag_node]\n\u001b[0;32m      2\u001b[0m flag\n",
      "Cell \u001b[1;32mIn[6], line 1\u001b[0m, in \u001b[0;36m<listcomp>\u001b[1;34m(.0)\u001b[0m\n\u001b[1;32m----> 1\u001b[0m flag \u001b[38;5;241m=\u001b[39m [x\u001b[38;5;241m.\u001b[39mfind(\u001b[38;5;124m'\u001b[39m\u001b[38;5;124ma\u001b[39m\u001b[38;5;124m'\u001b[39m)[\u001b[38;5;124m'\u001b[39m\u001b[38;5;124mhref\u001b[39m\u001b[38;5;124m'\u001b[39m] \u001b[38;5;28;01mfor\u001b[39;00m x \u001b[38;5;129;01min\u001b[39;00m flag_node]\n\u001b[0;32m      2\u001b[0m flag\n",
      "\u001b[1;31mTypeError\u001b[0m: 'NoneType' object is not subscriptable"
     ]
    }
   ],
   "source": [
    "flag = [x.find('a')['href'] for x in flag_node]\n",
    "flag"
   ]
  },
  {
   "cell_type": "code",
   "execution_count": 46,
   "id": "4a24d949-b8e0-4840-aeef-b93088842fb8",
   "metadata": {},
   "outputs": [
    {
     "ename": "TypeError",
     "evalue": "'NoneType' object is not subscriptable",
     "output_type": "error",
     "traceback": [
      "\u001b[1;31m---------------------------------------------------------------------------\u001b[0m",
      "\u001b[1;31mTypeError\u001b[0m                                 Traceback (most recent call last)",
      "Cell \u001b[1;32mIn[46], line 1\u001b[0m\n\u001b[1;32m----> 1\u001b[0m flagsmall \u001b[38;5;241m=\u001b[39m [x\u001b[38;5;241m.\u001b[39mfind(\u001b[38;5;124m'\u001b[39m\u001b[38;5;124mimg\u001b[39m\u001b[38;5;124m'\u001b[39m)[\u001b[38;5;124m\"\u001b[39m\u001b[38;5;124msrc\u001b[39m\u001b[38;5;124m\"\u001b[39m] \u001b[38;5;28;01mfor\u001b[39;00m x \u001b[38;5;129;01min\u001b[39;00m flag_node]\n\u001b[0;32m      2\u001b[0m flagsmall\n",
      "Cell \u001b[1;32mIn[46], line 1\u001b[0m, in \u001b[0;36m<listcomp>\u001b[1;34m(.0)\u001b[0m\n\u001b[1;32m----> 1\u001b[0m flagsmall \u001b[38;5;241m=\u001b[39m [x\u001b[38;5;241m.\u001b[39mfind(\u001b[38;5;124m'\u001b[39m\u001b[38;5;124mimg\u001b[39m\u001b[38;5;124m'\u001b[39m)[\u001b[38;5;124m\"\u001b[39m\u001b[38;5;124msrc\u001b[39m\u001b[38;5;124m\"\u001b[39m] \u001b[38;5;28;01mfor\u001b[39;00m x \u001b[38;5;129;01min\u001b[39;00m flag_node]\n\u001b[0;32m      2\u001b[0m flagsmall\n",
      "\u001b[1;31mTypeError\u001b[0m: 'NoneType' object is not subscriptable"
     ]
    }
   ],
   "source": [
    "flagsmall = [x.find('img')[\"src\"] for x in flag_node]\n",
    "flagsmall"
   ]
  },
  {
   "cell_type": "code",
   "execution_count": 47,
   "id": "53d520fb-fc9b-4774-948c-fb928bdc8767",
   "metadata": {},
   "outputs": [
    {
     "data": {
      "text/plain": [
       "'https://www.worldometers.info/geography/flags-of-the-world//img/flags/small/tn_al-flag.gif'"
      ]
     },
     "execution_count": 47,
     "metadata": {},
     "output_type": "execute_result"
    }
   ],
   "source": [
    "flagurl =''.join([url, flagsmall[1]])\n",
    "flagurl"
   ]
  },
  {
   "cell_type": "code",
   "execution_count": 48,
   "id": "e2e206de-b63f-4e53-9987-fe482b1f840e",
   "metadata": {},
   "outputs": [
    {
     "ename": "TypeError",
     "evalue": "'NoneType' object is not subscriptable",
     "output_type": "error",
     "traceback": [
      "\u001b[1;31m---------------------------------------------------------------------------\u001b[0m",
      "\u001b[1;31mTypeError\u001b[0m                                 Traceback (most recent call last)",
      "Cell \u001b[1;32mIn[48], line 1\u001b[0m\n\u001b[1;32m----> 1\u001b[0m country_flags \u001b[38;5;241m=\u001b[39m [(x\u001b[38;5;241m.\u001b[39mfind(\u001b[38;5;124m'\u001b[39m\u001b[38;5;124ma\u001b[39m\u001b[38;5;124m'\u001b[39m)[\u001b[38;5;124m'\u001b[39m\u001b[38;5;124mhref\u001b[39m\u001b[38;5;124m'\u001b[39m], x\u001b[38;5;241m.\u001b[39mfind(\u001b[38;5;124m'\u001b[39m\u001b[38;5;124mdiv\u001b[39m\u001b[38;5;124m'\u001b[39m, style\u001b[38;5;241m=\u001b[39m\u001b[38;5;124m\"\u001b[39m\u001b[38;5;124mfont-weight:bold; padding-top:10px\u001b[39m\u001b[38;5;124m\"\u001b[39m)\u001b[38;5;241m.\u001b[39mtext) \u001b[38;5;28;01mfor\u001b[39;00m x \u001b[38;5;129;01min\u001b[39;00m flag_node]\n\u001b[0;32m      2\u001b[0m country_flags\n",
      "Cell \u001b[1;32mIn[48], line 1\u001b[0m, in \u001b[0;36m<listcomp>\u001b[1;34m(.0)\u001b[0m\n\u001b[1;32m----> 1\u001b[0m country_flags \u001b[38;5;241m=\u001b[39m [(x\u001b[38;5;241m.\u001b[39mfind(\u001b[38;5;124m'\u001b[39m\u001b[38;5;124ma\u001b[39m\u001b[38;5;124m'\u001b[39m)[\u001b[38;5;124m'\u001b[39m\u001b[38;5;124mhref\u001b[39m\u001b[38;5;124m'\u001b[39m], x\u001b[38;5;241m.\u001b[39mfind(\u001b[38;5;124m'\u001b[39m\u001b[38;5;124mdiv\u001b[39m\u001b[38;5;124m'\u001b[39m, style\u001b[38;5;241m=\u001b[39m\u001b[38;5;124m\"\u001b[39m\u001b[38;5;124mfont-weight:bold; padding-top:10px\u001b[39m\u001b[38;5;124m\"\u001b[39m)\u001b[38;5;241m.\u001b[39mtext) \u001b[38;5;28;01mfor\u001b[39;00m x \u001b[38;5;129;01min\u001b[39;00m flag_node]\n\u001b[0;32m      2\u001b[0m country_flags\n",
      "\u001b[1;31mTypeError\u001b[0m: 'NoneType' object is not subscriptable"
     ]
    }
   ],
   "source": [
    "country_flags = [(x.find('a')['href'], x.find('div', style=\"font-weight:bold; padding-top:10px\").text) for x in flag_node]\n",
    "country_flags        "
   ]
  },
  {
   "cell_type": "code",
   "execution_count": 49,
   "id": "25136029-d87d-4e0e-b750-d3e0c842f7ab",
   "metadata": {},
   "outputs": [
    {
     "ename": "TypeError",
     "evalue": "'NoneType' object is not subscriptable",
     "output_type": "error",
     "traceback": [
      "\u001b[1;31m---------------------------------------------------------------------------\u001b[0m",
      "\u001b[1;31mTypeError\u001b[0m                                 Traceback (most recent call last)",
      "Cell \u001b[1;32mIn[49], line 4\u001b[0m\n\u001b[0;32m      2\u001b[0m urlgif \u001b[38;5;241m=\u001b[39m \u001b[38;5;124m'\u001b[39m\u001b[38;5;124mhttps://www.worldometers.info\u001b[39m\u001b[38;5;124m'\u001b[39m\n\u001b[0;32m      3\u001b[0m \u001b[38;5;28;01mfor\u001b[39;00m x \u001b[38;5;129;01min\u001b[39;00m flag_node:\n\u001b[1;32m----> 4\u001b[0m     flag \u001b[38;5;241m=\u001b[39m x\u001b[38;5;241m.\u001b[39mfind(\u001b[38;5;124m'\u001b[39m\u001b[38;5;124ma\u001b[39m\u001b[38;5;124m'\u001b[39m)[\u001b[38;5;124m'\u001b[39m\u001b[38;5;124mhref\u001b[39m\u001b[38;5;124m'\u001b[39m]\n\u001b[0;32m      5\u001b[0m     flagurl \u001b[38;5;241m=\u001b[39m\u001b[38;5;124m'\u001b[39m\u001b[38;5;124m'\u001b[39m\u001b[38;5;241m.\u001b[39mjoin([urlgif, flag])\n\u001b[0;32m      6\u001b[0m     country \u001b[38;5;241m=\u001b[39m x\u001b[38;5;241m.\u001b[39mfind(\u001b[38;5;124m'\u001b[39m\u001b[38;5;124mdiv\u001b[39m\u001b[38;5;124m'\u001b[39m, style\u001b[38;5;241m=\u001b[39m\u001b[38;5;124m\"\u001b[39m\u001b[38;5;124mfont-weight:bold; padding-top:10px\u001b[39m\u001b[38;5;124m\"\u001b[39m)\u001b[38;5;241m.\u001b[39mtext\n",
      "\u001b[1;31mTypeError\u001b[0m: 'NoneType' object is not subscriptable"
     ]
    }
   ],
   "source": [
    "country_flagx = []\n",
    "urlgif = 'https://www.worldometers.info'\n",
    "for x in flag_node:\n",
    "    flag = x.find('a')['href']\n",
    "    flagurl =''.join([urlgif, flag])\n",
    "    country = x.find('div', style=\"font-weight:bold; padding-top:10px\").text\n",
    "    country_flagx.append((country,flag))\n",
    "\n",
    "    response = requests.get(flagurl)\n",
    "    if response.status_code == 200:\n",
    "        with open(country, 'wb') as png_file:\n",
    "            png_file.write(response.content)\n",
    "    else:\n",
    "        print(f\"Failed to download png file. Status code: {response.status_code}\")\n"
   ]
  },
  {
   "cell_type": "code",
   "execution_count": 7,
   "id": "2cd42e13-e8b1-4da5-83a3-779e9bda1e7e",
   "metadata": {},
   "outputs": [
    {
     "ename": "TypeError",
     "evalue": "'NoneType' object is not subscriptable",
     "output_type": "error",
     "traceback": [
      "\u001b[1;31m---------------------------------------------------------------------------\u001b[0m",
      "\u001b[1;31mTypeError\u001b[0m                                 Traceback (most recent call last)",
      "Cell \u001b[1;32mIn[7], line 5\u001b[0m\n\u001b[0;32m      2\u001b[0m country_flagx \u001b[38;5;241m=\u001b[39m []\n\u001b[0;32m      4\u001b[0m \u001b[38;5;28;01mfor\u001b[39;00m x \u001b[38;5;129;01min\u001b[39;00m flag_node:\n\u001b[1;32m----> 5\u001b[0m     flag \u001b[38;5;241m=\u001b[39m x\u001b[38;5;241m.\u001b[39mfind(\u001b[38;5;124m'\u001b[39m\u001b[38;5;124ma\u001b[39m\u001b[38;5;124m'\u001b[39m)[\u001b[38;5;124m'\u001b[39m\u001b[38;5;124mhref\u001b[39m\u001b[38;5;124m'\u001b[39m]\n\u001b[0;32m      6\u001b[0m     flagurl \u001b[38;5;241m=\u001b[39m \u001b[38;5;124m'\u001b[39m\u001b[38;5;124m'\u001b[39m\u001b[38;5;241m.\u001b[39mjoin([urlgif, flag])\n\u001b[0;32m      7\u001b[0m     country \u001b[38;5;241m=\u001b[39m x\u001b[38;5;241m.\u001b[39mfind(\u001b[38;5;124m'\u001b[39m\u001b[38;5;124mdiv\u001b[39m\u001b[38;5;124m'\u001b[39m, style\u001b[38;5;241m=\u001b[39m\u001b[38;5;124m\"\u001b[39m\u001b[38;5;124mfont-weight:bold; padding-top:10px\u001b[39m\u001b[38;5;124m\"\u001b[39m)\u001b[38;5;241m.\u001b[39mtext\n",
      "\u001b[1;31mTypeError\u001b[0m: 'NoneType' object is not subscriptable"
     ]
    }
   ],
   "source": [
    "urlgif = 'https://www.worldometers.info'\n",
    "country_flagx = []\n",
    "\n",
    "for x in flag_node:\n",
    "    flag = x.find('a')['href']\n",
    "    flagurl = ''.join([urlgif, flag])\n",
    "    country = x.find('div', style=\"font-weight:bold; padding-top:10px\").text\n",
    "    country_flagx.append((country, flag))\n",
    "\n",
    "    response = requests.get(flagurl)\n",
    "    if response.status_code == 200:\n",
    "        # Ensure the country name is a valid filename\n",
    "        country_filename = \"\".join(x for x in country if x.isalnum() or x in (' ', '.', '_')).rstrip()\n",
    "        filename = f\"{country_filename}.png\"\n",
    "\n",
    "        with open(filename, 'wb') as png_file:\n",
    "            png_file.write(response.content)\n",
    "    else:\n",
    "        print(f\"Failed to download png file. Status code: {response.status_code}\")"
   ]
  },
  {
   "cell_type": "code",
   "execution_count": null,
   "id": "ecca15c8-c930-4c5b-8237-57be485649e3",
   "metadata": {},
   "outputs": [],
   "source": []
  }
 ],
 "metadata": {
  "kernelspec": {
   "display_name": "Python 3 (ipykernel)",
   "language": "python",
   "name": "python3"
  },
  "language_info": {
   "codemirror_mode": {
    "name": "ipython",
    "version": 3
   },
   "file_extension": ".py",
   "mimetype": "text/x-python",
   "name": "python",
   "nbconvert_exporter": "python",
   "pygments_lexer": "ipython3",
   "version": "3.11.4"
  }
 },
 "nbformat": 4,
 "nbformat_minor": 5
}
